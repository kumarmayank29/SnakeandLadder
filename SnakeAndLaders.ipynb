{
 "cells": [
  {
   "cell_type": "code",
   "execution_count": 1,
   "metadata": {},
   "outputs": [],
   "source": [
    "import numpy as np\n",
    "import pandas as pd"
   ]
  },
  {
   "cell_type": "code",
   "execution_count": 2,
   "metadata": {},
   "outputs": [],
   "source": [
    "def rolling():\n",
    "    roll = np.random.randint(1,7)\n",
    "    return(roll)"
   ]
  },
  {
   "cell_type": "code",
   "execution_count": 3,
   "metadata": {},
   "outputs": [],
   "source": [
    "def automode():\n",
    "    x=0\n",
    "    y=0\n",
    "    while(x or y <=100):\n",
    "        xroll = input('Player 1: ')\n",
    "        if(xroll == 'roll'):\n",
    "            xrolled = rolling()\n",
    "            print('You got a ',xrolled)\n",
    "        else:\n",
    "            print('Wrong Input')\n",
    "        x = x + xrolled\n",
    "        print(' Your final position is ',x)\n",
    "        \n",
    "        yroll = input('Player 2: ')\n",
    "        if(yroll == 'roll'):\n",
    "            yrolled = rolling()\n",
    "            print('You got a ',yrolled)\n",
    "        else:\n",
    "            print('Wrong Input')\n",
    "        y = y + yrolled\n",
    "        print(' Your final position is ',y)"
   ]
  },
  {
   "cell_type": "code",
   "execution_count": 4,
   "metadata": {},
   "outputs": [],
   "source": [
    "def manual():\n",
    "    x=0\n",
    "    y=0\n",
    "    while(x <100 and y <100):\n",
    "        xroll = int(input('Player 1: '))\n",
    "        while not(1<xroll<21):\n",
    "          xroll = int(input('Wrong Input, Try again:'))\n",
    "        print('You got a ',xroll)\n",
    "        if((x + xroll)>100):\n",
    "            print('Chance Skip')\n",
    "        else:\n",
    "            x = x + xroll\n",
    "            Snake(x)\n",
    "            lad = Ladder(x)\n",
    "            x = lad\n",
    "            print(' Your final position is ',x)\n",
    "        \n",
    "        if(x==100):\n",
    "            print(Player_1+' Player 1 is the Winner')\n",
    "            break\n",
    "            \n",
    "        yroll = int(input('Player 2: '))\n",
    "        while not(1<xroll<21):\n",
    "          yroll = int(input('Wrong Input, Try again:'))\n",
    "        print('You got a ',yroll)\n",
    "        if((y + yroll)>100):\n",
    "            print('Chance Skip')\n",
    "        else:\n",
    "            y = y + yroll\n",
    "            Snake(y)\n",
    "            Ladder(y)\n",
    "            print(' Your final position is ',y)\n",
    "        \n",
    "        \n",
    "        if(y==100):\n",
    "            print(Player_2+' Player 2 is the Winner')\n",
    "            break"
   ]
  },
  {
   "cell_type": "code",
   "execution_count": 5,
   "metadata": {},
   "outputs": [],
   "source": [
    "def choose(choice):\n",
    "    if(choice == 1):\n",
    "        automode()\n",
    "    elif(choice == 2):\n",
    "        manual()\n",
    "    else:\n",
    "        print('Wrong Input!')"
   ]
  },
  {
   "cell_type": "code",
   "execution_count": 6,
   "metadata": {},
   "outputs": [],
   "source": [
    "def Snake(z):\n",
    "    snakes={17 : 7, 54 : 34, 62 : 19, 98 : 79}\n",
    "    for k in snakes:\n",
    "        if(k==z):\n",
    "            z = snakes[z]"
   ]
  },
  {
   "cell_type": "code",
   "execution_count": 7,
   "metadata": {},
   "outputs": [],
   "source": [
    "def Ladder(z):\n",
    "    ladders={3 : 38, 24 : 33, 42 : 93, 72 : 84}\n",
    "    for k in ladders:\n",
    "        if(k==z):\n",
    "            z = ladders[k]"
   ]
  },
  {
   "cell_type": "code",
   "execution_count": 8,
   "metadata": {},
   "outputs": [
    {
     "name": "stdout",
     "output_type": "stream",
     "text": [
      "###### Welcome to Snakes & Ladders Game #####\n",
      "Enter the name of Player 1:fgh\n",
      "Enter the name of Player 2:dfg\n",
      "######Let us Start #####\n",
      "Choose your mode: \n",
      " 1) Auto \n",
      " 2) Manual\n",
      "2\n",
      "Player 1: 3\n",
      "You got a  3\n",
      " Your final position is  None\n",
      "Player 2: 3\n",
      "You got a  3\n",
      " Your final position is  3\n"
     ]
    },
    {
     "ename": "TypeError",
     "evalue": "'<' not supported between instances of 'NoneType' and 'int'",
     "output_type": "error",
     "traceback": [
      "\u001b[1;31m---------------------------------------------------------------------------\u001b[0m",
      "\u001b[1;31mTypeError\u001b[0m                                 Traceback (most recent call last)",
      "\u001b[1;32m<ipython-input-8-00921785eee2>\u001b[0m in \u001b[0;36m<module>\u001b[1;34m\u001b[0m\n\u001b[0;32m      5\u001b[0m \u001b[0mprint\u001b[0m\u001b[1;33m(\u001b[0m\u001b[1;34m'Choose your mode: \\n 1) Auto \\n 2) Manual'\u001b[0m\u001b[1;33m)\u001b[0m\u001b[1;33m\u001b[0m\u001b[1;33m\u001b[0m\u001b[0m\n\u001b[0;32m      6\u001b[0m \u001b[0mchoice\u001b[0m \u001b[1;33m=\u001b[0m \u001b[0mint\u001b[0m\u001b[1;33m(\u001b[0m\u001b[0minput\u001b[0m\u001b[1;33m(\u001b[0m\u001b[1;33m)\u001b[0m\u001b[1;33m)\u001b[0m\u001b[1;33m\u001b[0m\u001b[1;33m\u001b[0m\u001b[0m\n\u001b[1;32m----> 7\u001b[1;33m \u001b[0mchoose\u001b[0m\u001b[1;33m(\u001b[0m\u001b[0mchoice\u001b[0m\u001b[1;33m)\u001b[0m\u001b[1;33m\u001b[0m\u001b[1;33m\u001b[0m\u001b[0m\n\u001b[0m",
      "\u001b[1;32m<ipython-input-5-2c231dbe6d16>\u001b[0m in \u001b[0;36mchoose\u001b[1;34m(choice)\u001b[0m\n\u001b[0;32m      3\u001b[0m         \u001b[0mautomode\u001b[0m\u001b[1;33m(\u001b[0m\u001b[1;33m)\u001b[0m\u001b[1;33m\u001b[0m\u001b[1;33m\u001b[0m\u001b[0m\n\u001b[0;32m      4\u001b[0m     \u001b[1;32melif\u001b[0m\u001b[1;33m(\u001b[0m\u001b[0mchoice\u001b[0m \u001b[1;33m==\u001b[0m \u001b[1;36m2\u001b[0m\u001b[1;33m)\u001b[0m\u001b[1;33m:\u001b[0m\u001b[1;33m\u001b[0m\u001b[1;33m\u001b[0m\u001b[0m\n\u001b[1;32m----> 5\u001b[1;33m         \u001b[0mmanual\u001b[0m\u001b[1;33m(\u001b[0m\u001b[1;33m)\u001b[0m\u001b[1;33m\u001b[0m\u001b[1;33m\u001b[0m\u001b[0m\n\u001b[0m\u001b[0;32m      6\u001b[0m     \u001b[1;32melse\u001b[0m\u001b[1;33m:\u001b[0m\u001b[1;33m\u001b[0m\u001b[1;33m\u001b[0m\u001b[0m\n\u001b[0;32m      7\u001b[0m         \u001b[0mprint\u001b[0m\u001b[1;33m(\u001b[0m\u001b[1;34m'Wrong Input!'\u001b[0m\u001b[1;33m)\u001b[0m\u001b[1;33m\u001b[0m\u001b[1;33m\u001b[0m\u001b[0m\n",
      "\u001b[1;32m<ipython-input-4-adb0dfc79a35>\u001b[0m in \u001b[0;36mmanual\u001b[1;34m()\u001b[0m\n\u001b[0;32m      2\u001b[0m     \u001b[0mx\u001b[0m\u001b[1;33m=\u001b[0m\u001b[1;36m0\u001b[0m\u001b[1;33m\u001b[0m\u001b[1;33m\u001b[0m\u001b[0m\n\u001b[0;32m      3\u001b[0m     \u001b[0my\u001b[0m\u001b[1;33m=\u001b[0m\u001b[1;36m0\u001b[0m\u001b[1;33m\u001b[0m\u001b[1;33m\u001b[0m\u001b[0m\n\u001b[1;32m----> 4\u001b[1;33m     \u001b[1;32mwhile\u001b[0m\u001b[1;33m(\u001b[0m\u001b[0mx\u001b[0m \u001b[1;33m<\u001b[0m\u001b[1;36m100\u001b[0m \u001b[1;32mand\u001b[0m \u001b[0my\u001b[0m \u001b[1;33m<\u001b[0m\u001b[1;36m100\u001b[0m\u001b[1;33m)\u001b[0m\u001b[1;33m:\u001b[0m\u001b[1;33m\u001b[0m\u001b[1;33m\u001b[0m\u001b[0m\n\u001b[0m\u001b[0;32m      5\u001b[0m         \u001b[0mxroll\u001b[0m \u001b[1;33m=\u001b[0m \u001b[0mint\u001b[0m\u001b[1;33m(\u001b[0m\u001b[0minput\u001b[0m\u001b[1;33m(\u001b[0m\u001b[1;34m'Player 1: '\u001b[0m\u001b[1;33m)\u001b[0m\u001b[1;33m)\u001b[0m\u001b[1;33m\u001b[0m\u001b[1;33m\u001b[0m\u001b[0m\n\u001b[0;32m      6\u001b[0m         \u001b[1;32mwhile\u001b[0m \u001b[1;32mnot\u001b[0m\u001b[1;33m(\u001b[0m\u001b[1;36m1\u001b[0m\u001b[1;33m<\u001b[0m\u001b[0mxroll\u001b[0m\u001b[1;33m<\u001b[0m\u001b[1;36m21\u001b[0m\u001b[1;33m)\u001b[0m\u001b[1;33m:\u001b[0m\u001b[1;33m\u001b[0m\u001b[1;33m\u001b[0m\u001b[0m\n",
      "\u001b[1;31mTypeError\u001b[0m: '<' not supported between instances of 'NoneType' and 'int'"
     ]
    }
   ],
   "source": [
    "print('###### Welcome to Snakes & Ladders Game #####')\n",
    "Player_1 = input('Enter the name of Player 1:')\n",
    "Player_2 = input('Enter the name of Player 2:')\n",
    "print('######Let us Start #####')\n",
    "print('Choose your mode: \\n 1) Auto \\n 2) Manual')\n",
    "choice = int(input())\n",
    "choose(choice)"
   ]
  }
 ],
 "metadata": {
  "kernelspec": {
   "display_name": "Python 3",
   "language": "python",
   "name": "python3"
  },
  "language_info": {
   "codemirror_mode": {
    "name": "ipython",
    "version": 3
   },
   "file_extension": ".py",
   "mimetype": "text/x-python",
   "name": "python",
   "nbconvert_exporter": "python",
   "pygments_lexer": "ipython3",
   "version": "3.9.0"
  }
 },
 "nbformat": 4,
 "nbformat_minor": 4
}
