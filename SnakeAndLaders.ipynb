{
 "cells": [
  {
   "cell_type": "code",
   "execution_count": 1,
   "metadata": {},
   "outputs": [],
   "source": [
    "import numpy as np\n",
    "import pandas as pd"
   ]
  },
  {
   "cell_type": "code",
   "execution_count": 2,
   "metadata": {},
   "outputs": [],
   "source": [
    "def rolling():\n",
    "    roll = np.random.randint(1,7)\n",
    "    return(roll)"
   ]
  },
  {
   "cell_type": "code",
   "execution_count": 3,
   "metadata": {},
   "outputs": [],
   "source": [
    "def automode():\n",
    "    x=0\n",
    "    y=0\n",
    "    while(x or y <=100):\n",
    "        xroll = input('Player 1: ')\n",
    "        if(xroll == 'roll'):\n",
    "            xrolled = rolling()\n",
    "            print('You got a ',xrolled)\n",
    "        else:\n",
    "            print('Wrong Input')\n",
    "        x = x + xrolled\n",
    "        print(' Your final position is ',x)\n",
    "        \n",
    "        yroll = input('Player 2: ')\n",
    "        if(yroll == 'roll'):\n",
    "            yrolled = rolling()\n",
    "            print('You got a ',yrolled)\n",
    "        else:\n",
    "            print('Wrong Input')\n",
    "        y = y + yrolled\n",
    "        print(' Your final position is ',y)"
   ]
  },
  {
   "cell_type": "code",
   "execution_count": 4,
   "metadata": {},
   "outputs": [],
   "source": [
    "def manual():\n",
    "    x=0\n",
    "    y=0\n",
    "    while(x <100 and y <100):\n",
    "        xroll = int(input('Player 1: '))\n",
    "        while not(1<xroll<21):\n",
    "          xroll = int(input('Wrong Input, Try again:'))\n",
    "        print('You got a ',xroll)\n",
    "        if((x + xroll)>100):\n",
    "            print('Chance Skip')\n",
    "        else:\n",
    "            x = x + xroll\n",
    "            Snake(x)\n",
    "            lad = Ladder(x)\n",
    "            x = lad\n",
    "            print(' Your final position is ',x)\n",
    "        \n",
    "        if(x==100):\n",
    "            print(Player_1+' Player 1 is the Winner')\n",
    "            break\n",
    "            \n",
    "        yroll = int(input('Player 2: '))\n",
    "        while not(1<xroll<21):\n",
    "          yroll = int(input('Wrong Input, Try again:'))\n",
    "        print('You got a ',yroll)\n",
    "        if((y + yroll)>100):\n",
    "            print('Chance Skip')\n",
    "        else:\n",
    "            y = y + yroll\n",
    "            Snake(y)\n",
    "            Ladder(y)\n",
    "            print(' Your final position is ',y)\n",
    "        \n",
    "        \n",
    "        if(y==100):\n",
    "            print(Player_2+' Player 2 is the Winner')\n",
    "            break"
   ]
  },
  {
   "cell_type": "code",
   "execution_count": 5,
   "metadata": {},
   "outputs": [],
   "source": [
    "def choose(choice):\n",
    "    if(choice == 1):\n",
    "        automode()\n",
    "    elif(choice == 2):\n",
    "        manual()\n",
    "    else:\n",
    "        print('Wrong Input!')"
   ]
  },
  {
   "cell_type": "code",
   "execution_count": 6,
   "metadata": {},
   "outputs": [],
   "source": [
    "def Snake(z):\n",
    "    snakes={17 : 7, 54 : 34, 62 : 19, 98 : 79}\n",
    "    for k in snakes:\n",
    "        if(k==z):\n",
    "            z = snakes[z]"
   ]
  },
  {
   "cell_type": "code",
   "execution_count": 7,
   "metadata": {},
   "outputs": [],
   "source": [
    "def Ladder(z):\n",
    "    ladders={3 : 38, 24 : 33, 42 : 93, 72 : 84}\n",
    "    for k in ladders:\n",
    "        if(k==z):\n",
    "            z = ladders[k]"
   ]
  },
  {
   "cell_type": "code",
   "execution_count": null,
   "metadata": {},
   "outputs": [
    {
     "name": "stdout",
     "output_type": "stream",
     "text": [
      "###### Welcome to Snakes & Ladders Game #####\n"
     ]
    }
   ],
   "source": [
    "print('###### Welcome to Snakes & Ladders Game #####')\n",
    "Player_1 = input('Enter the name of Player 1:')\n",
    "Player_2 = input('Enter the name of Player 2:')\n",
    "print('######Let us Start #####')\n",
    "print('Choose your mode: \\n 1) Auto \\n 2) Manual')\n",
    "choice = int(input())\n",
    "choose(choice)"
   ]
  }
 ],
 "metadata": {
  "kernelspec": {
   "display_name": "Python 3",
   "language": "python",
   "name": "python3"
  },
  "language_info": {
   "codemirror_mode": {
    "name": "ipython",
    "version": 3
   },
   "file_extension": ".py",
   "mimetype": "text/x-python",
   "name": "python",
   "nbconvert_exporter": "python",
   "pygments_lexer": "ipython3",
   "version": "3.7.3"
  }
 },
 "nbformat": 4,
 "nbformat_minor": 4
}
